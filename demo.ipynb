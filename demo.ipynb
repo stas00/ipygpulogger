{
 "cells": [
  {
   "cell_type": "markdown",
   "metadata": {},
   "source": [
    "# IPyGPULogger Demo"
   ]
  },
  {
   "cell_type": "code",
   "execution_count": 1,
   "metadata": {},
   "outputs": [],
   "source": [
    "%reload_ext autoreload\n",
    "%autoreload 2"
   ]
  },
  {
   "cell_type": "code",
   "execution_count": 2,
   "metadata": {},
   "outputs": [],
   "source": [
    "import numpy as np\n",
    "import torch"
   ]
  },
  {
   "cell_type": "code",
   "execution_count": 3,
   "metadata": {},
   "outputs": [],
   "source": [
    "def consume_cpu_ram(n): return np.ones((n, n))\n",
    "def consume_gpu_ram(n): return torch.ones((n, n)).cuda()\n",
    "def consume_cpu_ram_128mb(): return consume_cpu_ram(2**12)\n",
    "def consume_gpu_ram_256mb(): return consume_gpu_ram(2**13)"
   ]
  },
  {
   "cell_type": "code",
   "execution_count": 4,
   "metadata": {},
   "outputs": [
    {
     "name": "stdout",
     "output_type": "stream",
     "text": [
      "RAM: Consumed Peaked  Used Total | Exec time 0.001s\n",
      "CPU:        0      0     2150 MB |\n",
      "GPU:        0      0     2156 MB |\n"
     ]
    }
   ],
   "source": [
    "from ipygpulogger import IPyGPULogger\n",
    "il = IPyGPULogger().start()"
   ]
  },
  {
   "cell_type": "code",
   "execution_count": null,
   "metadata": {},
   "outputs": [
    {
     "name": "stdout",
     "output_type": "stream",
     "text": [
      "RAM: Consumed Peaked  Used Total | Exec time 0.070s\n",
      "CPU:      256      0     2406 MB |\n",
      "GPU:        0      0     2156 MB |\n"
     ]
    }
   ],
   "source": [
    "# consume, consume more\n",
    "a1 = consume_cpu_ram_128mb()\n",
    "a2 = consume_cpu_ram_128mb()"
   ]
  },
  {
   "cell_type": "code",
   "execution_count": null,
   "metadata": {},
   "outputs": [
    {
     "name": "stdout",
     "output_type": "stream",
     "text": [
      "RAM: Consumed Peaked  Used Total | Exec time 0.081s\n",
      "CPU:      128    128     2278 MB |\n",
      "GPU:        0      0     2156 MB |\n"
     ]
    }
   ],
   "source": [
    "# consume, consume more, then release some (temporarily requires double the memory)\n",
    "a1 = consume_cpu_ram_128mb()\n",
    "a2 = consume_cpu_ram_128mb()\n",
    "del a1"
   ]
  },
  {
   "cell_type": "code",
   "execution_count": null,
   "metadata": {},
   "outputs": [
    {
     "name": "stdout",
     "output_type": "stream",
     "text": [
      "RAM: Consumed Peaked  Used Total | Exec time 0.078s\n",
      "CPU:      128      0     2278 MB |\n",
      "GPU:        0      0     2156 MB |\n"
     ]
    }
   ],
   "source": [
    "# consume, release, then consume more (half the memory is needed at the peak)\n",
    "a1 = consume_cpu_ram_128mb()\n",
    "del a1\n",
    "a2 = consume_cpu_ram_128mb()"
   ]
  },
  {
   "cell_type": "code",
   "execution_count": null,
   "metadata": {},
   "outputs": [
    {
     "name": "stdout",
     "output_type": "stream",
     "text": [
      "RAM: Consumed Peaked  Used Total | Exec time 0.076s\n",
      "CPU:        0    256     2278 MB |\n",
      "GPU:        0      0     2156 MB |\n"
     ]
    }
   ],
   "source": [
    "# consume, consume more, release all (all memory get reclaimed)\n",
    "b1 = consume_cpu_ram_128mb()\n",
    "b2 = consume_cpu_ram_128mb()\n",
    "del b1\n",
    "del b2"
   ]
  },
  {
   "cell_type": "code",
   "execution_count": null,
   "metadata": {},
   "outputs": [
    {
     "name": "stdout",
     "output_type": "stream",
     "text": [
      "RAM: Consumed Peaked  Used Total | Exec time 0.093s\n",
      "CPU:        0      0     2278 MB |\n",
      "GPU:      256      0     2412 MB |\n"
     ]
    }
   ],
   "source": [
    "# same on gpu\n",
    "c1 = consume_gpu_ram_256mb()"
   ]
  },
  {
   "cell_type": "code",
   "execution_count": null,
   "metadata": {},
   "outputs": [
    {
     "data": {
      "text/plain": [
       "IPyGPULoggerMemory(used_delta=0.005390167236328125, peaked_delta=0.0626678466796875, used_total=2278)"
      ]
     },
     "execution_count": 10,
     "metadata": {},
     "output_type": "execute_result"
    },
    {
     "data": {
      "text/plain": [
       "IPyGPULoggerMemory(used_delta=256, peaked_delta=0, used_total=2412)"
      ]
     },
     "execution_count": 10,
     "metadata": {},
     "output_type": "execute_result"
    },
    {
     "data": {
      "text/plain": [
       "IPyGPULoggerTime(time_delta=0.09250283241271973)"
      ]
     },
     "execution_count": 10,
     "metadata": {},
     "output_type": "execute_result"
    },
    {
     "data": {
      "text/plain": [
       "256"
      ]
     },
     "execution_count": 10,
     "metadata": {},
     "output_type": "execute_result"
    },
    {
     "name": "stdout",
     "output_type": "stream",
     "text": [
      "RAM: Consumed Peaked  Used Total | Exec time 0.008s\n",
      "CPU:        0      0     2278 MB |\n",
      "GPU:        0      0     2412 MB |\n"
     ]
    }
   ],
   "source": [
    "# direct data accessor (in not rounded MBs)\n",
    "cpu_mem, gpu_mem, time_data = il.data\n",
    "cpu_mem\n",
    "gpu_mem\n",
    "time_data\n",
    "gpu_mem.used_delta"
   ]
  },
  {
   "cell_type": "code",
   "execution_count": null,
   "metadata": {},
   "outputs": [],
   "source": [
    "il.stop()"
   ]
  },
  {
   "cell_type": "code",
   "execution_count": null,
   "metadata": {},
   "outputs": [],
   "source": [
    "# there should be no log appearing, after the logger has been stopped\n",
    "a = consume_cpu_ram_128mb()"
   ]
  },
  {
   "cell_type": "code",
   "execution_count": null,
   "metadata": {},
   "outputs": [],
   "source": []
  },
  {
   "cell_type": "code",
   "execution_count": null,
   "metadata": {},
   "outputs": [],
   "source": [
    "%%javascript # prevent committing an unsaved notebook\n",
    "_=IPython.notebook.save_notebook()"
   ]
  }
 ],
 "metadata": {
  "hide_input": false,
  "kernelspec": {
   "display_name": "Python 3",
   "language": "python",
   "name": "python3"
  },
  "language_info": {
   "codemirror_mode": {
    "name": "ipython",
    "version": 3
   },
   "file_extension": ".py",
   "mimetype": "text/x-python",
   "name": "python",
   "nbconvert_exporter": "python",
   "pygments_lexer": "ipython3",
   "version": "3.7.1"
  },
  "toc": {
   "base_numbering": 1,
   "nav_menu": {},
   "number_sections": true,
   "sideBar": true,
   "skip_h1_title": false,
   "title_cell": "Table of Contents",
   "title_sidebar": "Contents",
   "toc_cell": false,
   "toc_position": {
    "height": "calc(100% - 180px)",
    "left": "10px",
    "top": "150px",
    "width": "285px"
   },
   "toc_section_display": true,
   "toc_window_display": true
  },
  "varInspector": {
   "cols": {
    "lenName": 16,
    "lenType": 16,
    "lenVar": 40
   },
   "kernels_config": {
    "python": {
     "delete_cmd_postfix": "",
     "delete_cmd_prefix": "del ",
     "library": "var_list.py",
     "varRefreshCmd": "print(var_dic_list())"
    },
    "r": {
     "delete_cmd_postfix": ") ",
     "delete_cmd_prefix": "rm(",
     "library": "var_list.r",
     "varRefreshCmd": "cat(var_dic_list()) "
    }
   },
   "position": {
    "height": "323px",
    "left": "956px",
    "right": "20px",
    "top": "152px",
    "width": "350px"
   },
   "types_to_exclude": [
    "module",
    "function",
    "builtin_function_or_method",
    "instance",
    "_Feature"
   ],
   "window_display": false
  }
 },
 "nbformat": 4,
 "nbformat_minor": 2
}
